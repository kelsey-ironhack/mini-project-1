{
 "cells": [
  {
   "cell_type": "code",
   "execution_count": 3,
   "id": "0f90e395-360e-49e1-a40e-45c8841910e7",
   "metadata": {},
   "outputs": [
    {
     "name": "stdout",
     "output_type": "stream",
     "text": [
      " \n",
      "¡Hola viajero!\n",
      "\n",
      "Bienvenido a \"mi_juego\", \n",
      "dónde pondremos a prueba tu habilidad para \"tarea\"\n",
      "\n"
     ]
    }
   ],
   "source": [
    "import time\n",
    "import sys\n",
    "\n",
    "def mensaje_con_delay(mensaje, delay_mensaje=0.01, delay_post=0.01):\n",
    "    for char in mensaje:\n",
    "        sys.stdout.write(char)\n",
    "        sys.stdout.flush()\n",
    "        time.sleep(delay_mensaje)\n",
    "\n",
    "    time.sleep(delay_post)\n",
    "    \n",
    "bienvenida = f''' \n",
    "¡Hola viajero!\n",
    "\n",
    "Bienvenido a \"mi_juego\", \n",
    "dónde pondremos a prueba tu habilidad para \"tarea\"\n",
    "\n",
    "''' \n",
    "mensaje_con_delay(bienvenida)"
   ]
  },
  {
   "cell_type": "code",
   "execution_count": 4,
   "id": "845023da-e47e-4dc9-8a5a-af99eefd287a",
   "metadata": {},
   "outputs": [
    {
     "name": "stdout",
     "output_type": "stream",
     "text": [
      "\u001b[38;5;84mCorrecto!\u001b[0m\n",
      "\u001b[38;5;209mIntenta nuevamente :(\u001b[0m\n"
     ]
    }
   ],
   "source": [
    "print(u'\\u001b[38;5;84m' + 'Correcto!' + u'\\u001b[0m')\n",
    "print(u'\\u001b[38;5;209m' + 'Intenta nuevamente :(' + u'\\u001b[0m')"
   ]
  },
  {
   "cell_type": "code",
   "execution_count": 5,
   "id": "b4a7125b-0040-4dea-8e46-58d35ad11d8d",
   "metadata": {},
   "outputs": [
    {
     "name": "stdout",
     "output_type": "stream",
     "text": [
      "\u001b[34mCorrecto!\u001b[34m\n"
     ]
    }
   ],
   "source": [
    "#\"\\u001b[34m\" AZUL\n",
    "\n",
    "print(u'\\u001b[34m' + 'Correcto!' + u'\\u001b[34m')"
   ]
  },
  {
   "cell_type": "code",
   "execution_count": 18,
   "id": "102fed07-cbe2-443a-ba22-fd19dacce52d",
   "metadata": {},
   "outputs": [
    {
     "name": "stdout",
     "output_type": "stream",
     "text": [
      "\u001b[31mCorrecto!\u001b[31m\n",
      "\u001b[31;5;209mCorrecto!\u001b[0m\n"
     ]
    }
   ],
   "source": [
    "#\\u001b[31m ROJO\n",
    "print(u'\\u001b[31m' + 'Correcto!' + u'\\u001b[31m')\n",
    "#\\u001b[31m ROJO\n",
    "print(u'\\u001b[31;5;209m' + 'Correcto!' + u'\\u001b[0m')"
   ]
  },
  {
   "cell_type": "code",
   "execution_count": 20,
   "id": "8f94ebc0-bcc7-4d4a-81e3-60cd33d15971",
   "metadata": {},
   "outputs": [
    {
     "name": "stdout",
     "output_type": "stream",
     "text": [
      "\u001b[36mCorrecto!\u001b[36m\n",
      "\u001b[36;5;84mCorrecto!\u001b[0m\n"
     ]
    }
   ],
   "source": [
    "#\\u001b[32m CYAN\n",
    "print(u'\\u001b[36m' + 'Correcto!' + u'\\u001b[36m')\n",
    "\n",
    "print(u'\\u001b[36;5;84m' + 'Correcto!' + u'\\u001b[0m')"
   ]
  },
  {
   "cell_type": "code",
   "execution_count": 9,
   "id": "42e29be9-a660-4093-baf5-cace7877cbd5",
   "metadata": {},
   "outputs": [
    {
     "name": "stdout",
     "output_type": "stream",
     "text": [
      "\u001b[33mCorrecto!\u001b[33m\n"
     ]
    }
   ],
   "source": [
    "#\\u001b[33m AMARILLO\n",
    "print(u'\\u001b[33m' + 'Correcto!' + u'\\u001b[33m')"
   ]
  },
  {
   "cell_type": "code",
   "execution_count": 13,
   "id": "fa2b08d2-bb54-4f49-a6dc-ed293478e98c",
   "metadata": {},
   "outputs": [
    {
     "name": "stdout",
     "output_type": "stream",
     "text": [
      "\u001b[35mCorrecto!\u001b[35m\n",
      "\u001b[105mCorrecto!\u001b[105m\n"
     ]
    }
   ],
   "source": [
    "#\\u001b[35m MAGENTA\n",
    "print(u'\\u001b[35m' + 'Correcto!' + u'\\u001b[35m')\n",
    "#\\u001b[45m\n",
    "print(u'\\u001b[105m' + 'Correcto!' + u'\\u001b[105m')"
   ]
  },
  {
   "cell_type": "code",
   "execution_count": null,
   "id": "a2c911e0-f233-4d74-8a8c-7bc71b031fe1",
   "metadata": {},
   "outputs": [],
   "source": []
  }
 ],
 "metadata": {
  "kernelspec": {
   "display_name": "Python 3 (ipykernel)",
   "language": "python",
   "name": "python3"
  },
  "language_info": {
   "codemirror_mode": {
    "name": "ipython",
    "version": 3
   },
   "file_extension": ".py",
   "mimetype": "text/x-python",
   "name": "python",
   "nbconvert_exporter": "python",
   "pygments_lexer": "ipython3",
   "version": "3.9.13"
  }
 },
 "nbformat": 4,
 "nbformat_minor": 5
}
